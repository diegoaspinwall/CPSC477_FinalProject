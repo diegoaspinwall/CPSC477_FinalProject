{
  "nbformat": 4,
  "nbformat_minor": 0,
  "metadata": {
    "colab": {
      "provenance": []
    },
    "kernelspec": {
      "name": "python3",
      "display_name": "Python 3"
    }
  },
  "cells": [
    {
      "cell_type": "code",
      "source": [
        "# Get required nltk word sets\n",
        "import nltk\n",
        "nltk.download('wordnet')\n",
        "nltk.download('punkt')\n",
        "nltk.download('stopwords')"
      ],
      "metadata": {
        "id": "PBAko7ZjsJfl"
      },
      "execution_count": null,
      "outputs": []
    },
    {
      "cell_type": "code",
      "metadata": {
        "id": "z9G5P11zLisE"
      },
      "source": [
        "# Imports\n",
        "import re\n",
        "import os\n",
        "import json\n",
        "from google.colab import drive\n",
        "import numpy as np\n",
        "from nltk.corpus import stopwords\n",
        "from nltk.stem import WordNetLemmatizer\n",
        "from nltk.tokenize import sent_tokenize,word_tokenize"
      ],
      "execution_count": null,
      "outputs": []
    },
    {
      "cell_type": "code",
      "source": [
        "# Mount Drive\n",
        "drive.mount('/content/drive')"
      ],
      "metadata": {
        "colab": {
          "base_uri": "https://localhost:8080/"
        },
        "id": "lq_tWWp0dwLE",
        "outputId": "de490e10-3006-40a6-b659-65b1c4300a3d"
      },
      "execution_count": null,
      "outputs": [
        {
          "output_type": "stream",
          "name": "stdout",
          "text": [
            "Mounted at /content/drive\n"
          ]
        }
      ]
    },
    {
      "cell_type": "code",
      "source": [
        "# Function to read in our jsonl files\n",
        "def read_jsonl_file(file_path):\n",
        "    data = []\n",
        "    with open(file_path, 'r') as file:\n",
        "        for line in file:\n",
        "            data.append(json.loads(line))\n",
        "    return data\n",
        "\n",
        "# Function to extract field types from our jsonl files to understand\n",
        "# our jsonl files\n",
        "def get_field_types(articles):\n",
        "    field_types = set()\n",
        "    for article in articles:\n",
        "        for key in article.keys():\n",
        "            field_types.add(type(article[key]))\n",
        "    return field_types"
      ],
      "metadata": {
        "id": "aabX97NKblAS"
      },
      "execution_count": null,
      "outputs": []
    },
    {
      "cell_type": "code",
      "metadata": {
        "id": "QMlzG6l1L0pK"
      },
      "source": [
        "# Clean our sentences using lemmatizer\n",
        "def clean(sentences):\n",
        "\tlemmatizer = WordNetLemmatizer()\n",
        "\tcleaned_sentences = []\n",
        "\tfor sentence in sentences:\n",
        "\t\tsentence = sentence.lower()\n",
        "\t\tsentence = re.sub(r'[^a-zA-Z]',' ',sentence)\n",
        "\t\tsentence = sentence.split()\n",
        "\t  # Check if word in stopwords from nltk\n",
        "\t\tsentence = [lemmatizer.lemmatize(word) for word in sentence if word not in set(stopwords.words('english'))]\n",
        "\t\tsentence = ' '.join(sentence)\n",
        "\t\tcleaned_sentences.append(sentence)\n",
        "\treturn cleaned_sentences"
      ],
      "execution_count": null,
      "outputs": []
    },
    {
      "cell_type": "code",
      "metadata": {
        "id": "njsyZChlMDQL"
      },
      "source": [
        "# Calculate the initial probabilities of our sentences\n",
        "def probs_init(sentences):\n",
        "\tprobability_dict = {}\n",
        "\twords = word_tokenize('. '.join(sentences))\n",
        "\ttotal_words = len(set(words))\n",
        "\tfor word in words:\n",
        "\t\tif word!='.':\n",
        "\t\t\t# probability is based on counts, so add\n",
        "\t\t\tif not probability_dict.get(word):\n",
        "\t\t\t\tprobability_dict[word] = 1\n",
        "\t\t\telse:\n",
        "\t\t\t\tprobability_dict[word] += 1\n",
        "\n",
        "\tfor word,count in probability_dict.items():\n",
        "\t\tprobability_dict[word] = count/total_words\n",
        "\n",
        "\treturn probability_dict"
      ],
      "execution_count": null,
      "outputs": []
    },
    {
      "cell_type": "code",
      "metadata": {
        "id": "Gcx847gPMF8S"
      },
      "source": [
        "# Iteratively update our probababilities\n",
        "def probs_update(probability_dict,word):\n",
        "\tif probability_dict.get(word):\n",
        "\t\tprobability_dict[word] = probability_dict[word]**2\n",
        "\treturn probability_dict"
      ],
      "execution_count": null,
      "outputs": []
    },
    {
      "cell_type": "code",
      "metadata": {
        "id": "E2BF3MeaMOgU"
      },
      "source": [
        "# Calculate average sntence weights in oder to choose highest weight sentence\n",
        "def sent_weights_avg(sentences,probability_dict):\n",
        "\tsentence_weights = {}\n",
        "\tfor index,sentence in enumerate(sentences):\n",
        "\t\tif len(sentence) != 0:\n",
        "\t\t\t# Calculate the sum of probabilities for all words in the sentence\n",
        "      # Only include words that are present in the probability dictionary\n",
        "\t\t\taverage_proba = sum([probability_dict[word] for word in sentence if word in probability_dict.keys()])\n",
        "\t\t\taverage_proba /= len(sentence)\n",
        "\t\t\tsentence_weights[index] = average_proba\n",
        "\treturn sentence_weights\n"
      ],
      "execution_count": null,
      "outputs": []
    },
    {
      "cell_type": "code",
      "metadata": {
        "id": "nzXqF7hWMQTh"
      },
      "source": [
        "# Generate summary by looking at words that meet threshold\n",
        "# Then choose highest weighted sentence\n",
        "def generate_summary(sentence_weights, probability_dict, cleaned_article, tokenized_article, summary_length=7, probability_threshold=0.05):\n",
        "\t\tsummary = \"\"\n",
        "\t\tcurrent_length = 0\n",
        "\t\t# Continue generating summary until the desired length is reached or there are no more words to consider\n",
        "\t\twhile current_length < summary_length and probability_dict:\n",
        "\t\t\t\thighest_probability_word = max(probability_dict, key=probability_dict.get)\n",
        "\t\t    # Check if the probability of the highest probability word is above the threshold\n",
        "\t\t\t\tif probability_dict[highest_probability_word] >= probability_threshold:\n",
        "\t\t\t\t\tsentences_with_max_word = [index for index, sentence in enumerate(cleaned_article) if highest_probability_word in set(word_tokenize(sentence))]\n",
        "\t\t\t\t\tif sentences_with_max_word:\n",
        "\t\t\t\t\t\t\tsentence_list = sorted([[index, sentence_weights[index]] for index in sentences_with_max_word], key=lambda x: x[1], reverse=True)\n",
        "\t\t\t\t\t\t\tsummary += tokenized_article[sentence_list[0][0]] + \" \"\n",
        "\t\t\t\t\t\t\tfor word in word_tokenize(cleaned_article[sentence_list[0][0]]):\n",
        "\t\t\t\t\t\t\t\t\tprobability_dict = probs_update(probability_dict, word)\n",
        "\t\t\t\t\t\t\t\t\tcurrent_length += 1\n",
        "\t\t\t\t\t# If no sentences contain highest prob word, drop it\n",
        "\t\t\t\t\telse:\n",
        "\t\t\t\t\t\t\tdel probability_dict[highest_probability_word]\n",
        "\t\t\t\t# Drop highest prob word if it does not meet threshold\n",
        "\t\t\t\telse:\n",
        "\t\t\t\t\t\tdel probability_dict[highest_probability_word]\n",
        "\t\treturn summary"
      ],
      "execution_count": null,
      "outputs": []
    },
    {
      "cell_type": "code",
      "source": [
        "# Write our generated summaries to a file for inference, one per line\n",
        "def write_summaries_to_file(summaries, output_file_path):\n",
        "    \"\"\"\n",
        "    Write summaries to a text file.\n",
        "\n",
        "    Args:\n",
        "    - summaries (list): List of summaries.\n",
        "    - output_file_path (str): Path to the output text file.\n",
        "    \"\"\"\n",
        "    with open(output_file_path, \"w\", encoding=\"utf-8\") as f:\n",
        "        for summary in summaries:\n",
        "            f.write(summary.strip() + \"\\n\")"
      ],
      "metadata": {
        "id": "x358NiwDdK3H"
      },
      "execution_count": null,
      "outputs": []
    },
    {
      "cell_type": "code",
      "metadata": {
        "id": "fp_63zzsMS0b"
      },
      "source": [
        "# Main function for summarization\n",
        "def run_summarization():\n",
        "\t# Load in our articles from the validation jsonl file\n",
        "\tarticles = read_jsonl_file('/content/drive/My Drive/PLOS_val_copy.jsonl')\n",
        "  # Extract articles from jsonl object\n",
        "\tcontent = [articles[i]['article'] for i in range(len(articles))]\n",
        "\t# Check field types of jsonl object, more for debugging\n",
        "\tfield_types = get_field_types(articles)\n",
        "\trequired_length = 7  # PLOS expert summaries are 7 sentences each\n",
        "\tsummaries = []\n",
        "\tfor article_content in content:\n",
        "\t\ttokenized_article = sent_tokenize(article_content) # tokenize article\n",
        "\t\tcleaned_article = clean(tokenized_article) # clean tokens of unwanted characters\n",
        "\t\tprobability_dict = probs_init(cleaned_article) # calculate probability dictionary from cleaned tokens\n",
        "\t\tsentence_weights = sent_weights_avg(cleaned_article, probability_dict) # Generate weights from cleaned tokens\n",
        "\t\tsummary = generate_summary(sentence_weights, probability_dict, cleaned_article, tokenized_article, required_length) # Generate summary\n",
        "\t\t# Make sure summary is not empty, otherwise algorithm failed for that summary\n",
        "\t\tif summary == \"\" or summary == \" \":\n",
        "\t\t\t\tsummary = \"None.\"\n",
        "\t\tsummaries.append(summary.strip())\n",
        "\n",
        "\t# Once all summaries are generated, write to text file for inference\n",
        "\twrite_summaries_to_file(summaries, \"/content/drive/MyDrive/sumbasic_summaries4.txt\")"
      ],
      "execution_count": null,
      "outputs": []
    },
    {
      "cell_type": "code",
      "metadata": {
        "id": "MBaXuFyiMVv2"
      },
      "source": [
        "# Call function to generate summaries and write to file\n",
        "run_summarization()"
      ],
      "execution_count": null,
      "outputs": []
    }
  ]
}